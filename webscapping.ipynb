{
 "cells": [
  {
   "cell_type": "markdown",
   "id": "b022ba1c",
   "metadata": {},
   "source": [
    "# Web Scrapping the number of colleges in Massachusetts towns\n",
    "\n",
    "As part of my project I will look at whether or not having colleges in a commjunity can be correlated to the performance of the community's schools.  In this notebook I will use the BeautifulSoup library in Python to create a Pandas DataFrame containing the towns in Massachusetts that contain colleges and track how many."
   ]
  },
  {
   "cell_type": "markdown",
   "id": "947333ca",
   "metadata": {},
   "source": [
    "## Import the required libraries"
   ]
  },
  {
   "cell_type": "code",
   "execution_count": 1,
   "id": "b48a468f",
   "metadata": {},
   "outputs": [],
   "source": [
    "import sys\n",
    "import requests\n",
    "from bs4 import BeautifulSoup\n",
    "import re\n",
    "import unicodedata\n",
    "import pandas as pd\n",
    "from collections import Counter"
   ]
  },
  {
   "cell_type": "markdown",
   "id": "25d7ad30",
   "metadata": {},
   "source": [
    "## Request the html from Wikipedia\n",
    "\n",
    "Here I will create a get request and create a BeautifulSoup object from the webpage."
   ]
  },
  {
   "cell_type": "code",
   "execution_count": 17,
   "id": "104b56cf",
   "metadata": {},
   "outputs": [],
   "source": [
    "url = \"https://en.wikipedia.org/wiki/List_of_colleges_and_universities_in_Massachusetts\"\n",
    "\n",
    "response = requests.get(url)\n",
    "soup = BeautifulSoup(response.content,'html.parser')"
   ]
  },
  {
   "cell_type": "markdown",
   "id": "ad9a9100",
   "metadata": {},
   "source": [
    "## Extract the table containing college and town info"
   ]
  },
  {
   "cell_type": "code",
   "execution_count": 53,
   "id": "277ab398",
   "metadata": {},
   "outputs": [],
   "source": [
    "html_tables = soup.find_all('table')\n",
    "college_town_table  = html_tables[0]"
   ]
  },
  {
   "cell_type": "markdown",
   "id": "9f56af8e",
   "metadata": {},
   "source": [
    "## Extract town names and frequencies from the table\n",
    "I will iterate through each row of the table and take out the town name of each college.  I will create a list of all these names then create a frequency table in the form of a dictionary using the Counter method.  This will then need to be reformatted into a more usuable form."
   ]
  },
  {
   "cell_type": "code",
   "execution_count": 94,
   "id": "d8a63509",
   "metadata": {},
   "outputs": [],
   "source": [
    "# initialize dictionary\n",
    "frequency_tbl ={'Town':[],'No_of_Colleges':[]}\n",
    "\n",
    "# Initialize list that will store each college's town\n",
    "town_list = []\n",
    "\n",
    "# Go through each row of the college table skipping the first header row\n",
    "for rows in college_town_table.find_all('tr')[1:]:\n",
    "    \n",
    "    # extract town name of the college.  Town names are found in links to that town's wiki page.\n",
    "    # add the town name to a list\n",
    "    town_list.append(rows.find_all('a')[1].string)\n",
    "\n",
    "# use count function to create frequency dictionary\n",
    "counts = dict(Counter(town_list))\n",
    "\n",
    "# reorganize dictionary to be more useful in overall project\n",
    "frequency_tbl['Town'] = list(counts.keys())\n",
    "frequency_tbl['No_of_Colleges'] = list(counts.values())\n",
    "\n",
    "df = pd.DataFrame(frequency_tbl)"
   ]
  },
  {
   "cell_type": "markdown",
   "id": "649c16b5",
   "metadata": {},
   "source": [
    "## Export dataframe as a csv for use in project"
   ]
  },
  {
   "cell_type": "code",
   "execution_count": 95,
   "id": "d09beabf",
   "metadata": {},
   "outputs": [],
   "source": [
    "df.to_csv('webscrapped_college_freq.csv')"
   ]
  },
  {
   "cell_type": "markdown",
   "id": "3dfbf518",
   "metadata": {},
   "source": [
    "# Webscraping Income per Capita for each Massachusetts Town"
   ]
  },
  {
   "cell_type": "markdown",
   "id": "04281c51",
   "metadata": {},
   "source": [
    "## Request the html from Wikipedia"
   ]
  },
  {
   "cell_type": "code",
   "execution_count": 2,
   "id": "9ceb950d",
   "metadata": {},
   "outputs": [],
   "source": [
    "url = \"https://en.wikipedia.org/wiki/List_of_Massachusetts_locations_by_per_capita_income\"\n",
    "\n",
    "response = requests.get(url)\n",
    "soup = BeautifulSoup(response.content,'html.parser')"
   ]
  },
  {
   "cell_type": "markdown",
   "id": "b0bff0b2",
   "metadata": {},
   "source": [
    "## Extract the Table Containing Income Data"
   ]
  },
  {
   "cell_type": "code",
   "execution_count": 13,
   "id": "91f8afa2",
   "metadata": {},
   "outputs": [],
   "source": [
    "html_tables = soup.find_all(\"table\")\n",
    "income_table = html_tables[2]"
   ]
  },
  {
   "cell_type": "markdown",
   "id": "09add8a5",
   "metadata": {},
   "source": [
    "## Extract Town and Per Capita Income from Table"
   ]
  },
  {
   "cell_type": "code",
   "execution_count": 12,
   "id": "e93d9405",
   "metadata": {},
   "outputs": [],
   "source": [
    "# Initialize the dictionary\n",
    "income_dict = {\"Town\":[],\"Per_Capita_Income\":[]}\n",
    "\n",
    "# Go through the table one row at a time skipping the header row.\n",
    "# In each row the town name and the per capita income will be added to the dictionary\n",
    "for row in income_table.find_all('tr')[1:]:\n",
    "    cells = row.find_all('td')\n",
    "    income_dict['Town'].append(cells[1].a.string)\n",
    "    income_dict['Per_Capita_Income'].append(cells[4])"
   ]
  },
  {
   "cell_type": "markdown",
   "id": "8ff1ec97",
   "metadata": {},
   "source": [
    "## Convert dictionary to a DataFrame and then save table as a csv file"
   ]
  },
  {
   "cell_type": "code",
   "execution_count": 14,
   "id": "30931fe5",
   "metadata": {},
   "outputs": [],
   "source": [
    "df = pd.DataFrame(income_dict)\n",
    "df.to_csv('per_capita_income.csv')"
   ]
  }
 ],
 "metadata": {
  "kernelspec": {
   "display_name": "Python 3 (ipykernel)",
   "language": "python",
   "name": "python3"
  },
  "language_info": {
   "codemirror_mode": {
    "name": "ipython",
    "version": 3
   },
   "file_extension": ".py",
   "mimetype": "text/x-python",
   "name": "python",
   "nbconvert_exporter": "python",
   "pygments_lexer": "ipython3",
   "version": "3.10.9"
  }
 },
 "nbformat": 4,
 "nbformat_minor": 5
}
